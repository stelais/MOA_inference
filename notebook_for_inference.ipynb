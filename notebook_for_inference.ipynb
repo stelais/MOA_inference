{
 "cells": [
  {
   "cell_type": "code",
   "execution_count": 24,
   "metadata": {},
   "outputs": [],
   "source": [
    "\"\"\"Function to copy the inference files we want to analises from fugu to ponyta\n",
    "\"\"\"\n",
    "import pandas as pd \n",
    "import os"
   ]
  },
  {
   "cell_type": "code",
   "execution_count": 25,
   "metadata": {},
   "outputs": [],
   "source": [
    "path_inference_list = \"/Users/sishitan/Documents/MOA/inference_Jul/infer_results_2020-07-29-14-49-10.csv\"\n",
    "path_directory = '/local/data/fugu3/sishitan/MOAdata/lcurve/'\n",
    "path_to_be_saved = '/Users/sishitan/Documents/MOA/inference_Jul/'"
   ]
  },
  {
   "cell_type": "code",
   "execution_count": 30,
   "metadata": {},
   "outputs": [
    {
     "name": "stdout",
     "output_type": "stream",
     "text": [
      "gb10_R_9_gb10-R-9-3-423070.phot.cor\n",
      "gb4_R_7_gb4-R-7-6-709.phot.cor\n",
      "gb13_R_7_gb13-R-7-5-130986.phot.cor\n",
      "gb9_R_2_gb9-R-2-4-363942.phot.cor\n",
      "gb5_R_5_gb5-R-5-0-551946.phot.cor\n",
      "gb12_R_8_gb12-R-8-5-63608.phot.cor\n",
      "gb15_R_4_gb15-R-4-6-107016.phot.cor\n",
      "gb9_R_9_gb9-R-9-7-153894.phot.cor\n",
      "gb2_R_8_gb2-R-8-0-8321.phot.cor\n",
      "gb9_R_4_gb9-R-4-7-55996.phot.cor\n",
      "gb20_R_3_gb20-R-3-3-17441.phot.cor\n",
      "gb7_R_7_gb7-R-7-4-21768.phot.cor\n",
      "gb11_R_4_gb11-R-4-2-6902.phot.cor\n",
      "gb8_R_4_gb8-R-4-7-110434.phot.cor\n",
      "gb4_R_1_gb4-R-1-2-64683.phot.cor\n",
      "gb2_R_4_gb2-R-4-3-13020.phot.cor\n",
      "gb7_R_10_gb7-R-10-3-7698.phot.cor\n",
      "gb8_R_10_gb8-R-10-4-157680.phot.cor\n",
      "gb10_R_3_gb10-R-3-6-313915.phot.cor\n",
      "gb9_R_1_gb9-R-1-2-177243.phot.cor\n"
     ]
    }
   ],
   "source": [
    "df = pd.read_csv(path_inference_list)  \n",
    "# print(df.head())\n",
    "# print(df.Lightcurve_path.head())\n",
    "number_files =20\n",
    "df_new = (df.head(number_files)).copy()\n",
    "lightcurve_paths = df_new.Lightcurve_path\n",
    "for path in lightcurve_paths:\n",
    "    file_path = path.split(\"ive/\")[1].split(\".feather\")[0]\n",
    "    print(file_path)\n",
    "    file_path = file_path.replace('_','/')\n",
    "    total_file_path = path_directory + file_path + '.gz'\n",
    "    #print(total_file_path)\n",
    "    command_line = 'scp gs66-fugu:'+total_file_path+' '+path_to_be_saved\n",
    "    os.system(command_line)\n"
   ]
  },
  {
   "cell_type": "code",
   "execution_count": null,
   "metadata": {},
   "outputs": [],
   "source": []
  },
  {
   "cell_type": "code",
   "execution_count": 23,
   "metadata": {},
   "outputs": [],
   "source": [
    "\"\"\"Function to produce bokeh plot for the most likely microlensing events on the negative dataset\n",
    "\"\"\"\n",
    "from bokeh.plotting import figure, output_file, save\n",
    "import numpy as np\n",
    "from pathlib import Path"
   ]
  },
  {
   "cell_type": "code",
   "execution_count": 29,
   "metadata": {},
   "outputs": [],
   "source": [
    "def producing_plots(data_directory):\n",
    "    for file in Path(data_directory).rglob('*.cor'):\n",
    "        filename = file\n",
    "        #print(filename)\n",
    "        # df = pd.read_csv(filename)\n",
    "        # times = df['HJD']\n",
    "        # fluxs = df['flux']\n",
    "        # flux_errs = df['flux_err']\n",
    "        data=np.loadtxt(filename)\n",
    "        times = data[:,0]\n",
    "        fluxs = data[:,1]\n",
    "\n",
    "        filename = retr_name(data_directory, filename)\n",
    "        print(filename)\n",
    "        p = figure(title = \"Lightcurve \" + str(filename))\n",
    "        p.xaxis.axis_label = 'Days'\n",
    "        p.yaxis.axis_label = 'Flux'\n",
    "\n",
    "        p.circle(times, fluxs, fill_alpha=0.2, size=5)\n",
    "        output_file(data_directory+\"visual_graph/lightcurve_\"+filename+\".html\", title=\"lightcurve_\"+filename+\".py example\")\n",
    "        save(p)"
   ]
  },
  {
   "cell_type": "code",
   "execution_count": 31,
   "metadata": {},
   "outputs": [
    {
     "name": "stdout",
     "output_type": "stream",
     "text": [
      "gb9-R-9-7-153894.phot.cor\n",
      "gb8-R-10-4-157680.phot.cor\n",
      "gb8-R-4-7-110434.phot.cor\n",
      "gb4-R-7-6-709.phot.cor\n",
      "gb9-R-1-2-177243.phot.cor\n",
      "gb5-R-5-0-551946.phot.cor\n",
      "gb12-R-8-5-63608.phot.cor\n",
      "gb7-R-7-4-21768.phot.cor\n",
      "gb15-R-4-6-107016.phot.cor\n",
      "gb10-R-9-3-423070.phot.cor\n",
      "gb10-R-3-6-313915.phot.cor\n",
      "gb7-R-10-3-7698.phot.cor\n",
      "gb20-R-3-3-17441.phot.cor\n",
      "gb9-R-4-7-55996.phot.cor\n",
      "gb2-R-8-0-8321.phot.cor\n",
      "gb4-R-1-2-64683.phot.cor\n",
      "gb11-R-4-2-6902.phot.cor\n",
      "gb9-R-2-4-363942.phot.cor\n",
      "gb2-R-4-3-13020.phot.cor\n",
      "gb13-R-7-5-130986.phot.cor\n"
     ]
    }
   ],
   "source": [
    "data_directory = '/Users/sishitan/Documents/MOA/inference_Jul/'\n",
    "producing_plots(data_directory)"
   ]
  },
  {
   "cell_type": "code",
   "execution_count": 30,
   "metadata": {},
   "outputs": [],
   "source": [
    "def retr_name(data_directory, filename):\n",
    "    last_letters = data_directory[-5:]\n",
    "    filename = str(filename).split(last_letters)[1]\n",
    "    return filename"
   ]
  }
 ],
 "metadata": {
  "kernelspec": {
   "display_name": "Python 3",
   "language": "python",
   "name": "python3"
  },
  "language_info": {
   "codemirror_mode": {
    "name": "ipython",
    "version": 3
   },
   "file_extension": ".py",
   "mimetype": "text/x-python",
   "name": "python",
   "nbconvert_exporter": "python",
   "pygments_lexer": "ipython3",
   "version": "3.7.4"
  }
 },
 "nbformat": 4,
 "nbformat_minor": 2
}
