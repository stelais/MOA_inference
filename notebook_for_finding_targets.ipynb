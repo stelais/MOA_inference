{
 "cells": [
  {
   "cell_type": "code",
   "execution_count": 3,
   "metadata": {},
   "outputs": [],
   "source": [
    "import pandas as pd\n",
    "\n",
    "def getting_ra_and_dec_perl(field, chip, x, y):\n",
    "    import os\n",
    "    import subprocess\n",
    "    os.chdir(\"/Users/sishitan/Documents/MOA/inference_packages/RADEC\")\n",
    "\n",
    "    pipe = subprocess.Popen([\"perl\", \"ccd2sky.pl\", field, chip, x, y], stdout=subprocess.PIPE)\n",
    "    result = str(pipe.stdout.read())\n",
    "\n",
    "\n",
    "    ra_coor, dec_coor = result.split('RA= ')[-1].split('  Dec= ')\n",
    "    dec_coor = dec_coor.split(\"\\\\n'\")[0]\n",
    "    \n",
    "    return ra_coor, dec_coor\n",
    "\n",
    "def load_microlensing_meta_data(meta_data_file_path: str) -> pd.DataFrame:\n",
    "    \"\"\"\n",
    "    Loads a microlensing meta data file into a Pandas data frame.\n",
    "\n",
    "    :param meta_data_file_path: The path to the original meta data CSV.\n",
    "    :return: The meta data frame.\n",
    "    \"\"\"\n",
    "    \n",
    "    column_names = ['field', 'chip', 'nsub', 'ID', 'RA', 'Dec', 'x', 'y', 'ndata', 'ndetect', 'sigma', 'sumsigma',\n",
    "                    'redchi2_out', 'sepmin', 'ID_dophot', 'type', 'mag', 'mage', 't0', 'tE', 'umin', 'fs', 'fb',\n",
    "                    't0e', 'tEe', 'tEe1', 'tEe2', 'umine', 'umine1', 'umine2', 'fse', 'fbe', 'chi2', 't0FS', 'tEFS',\n",
    "                    'uminFS', 'rhoFS', 'fsFS', 'fbFS', 't0eFS', 'tEeFS', 'tEe1FS', 'tEe2FS', 'umineFS', 'umine1FS',\n",
    "                    'umine2FS', 'rhoeFS', 'rhoe1FS', 'rhoe2FS', 'fseFS', 'fbeFS', 'chi2FS']\n",
    "    meta_dataframe = pd.read_csv(meta_data_file_path, comment='#', header=None, delim_whitespace=True,\n",
    "                                  names=column_names)\n",
    "    return meta_dataframe\n",
    "\n",
    "\n",
    "class Event():\n",
    "    \"\"\"\n",
    "    Event\n",
    "    \"\"\"\n",
    "    def __init__(self, field= None, band= None, chip= None, subfield= None, event_id= None, \n",
    "                 event_name = None):\n",
    "        self.field = field\n",
    "        self.band = band\n",
    "        self.chip = chip\n",
    "        self.subfield = subfield\n",
    "        self.event_id = event_id \n",
    "        self.event_name = event_name\n",
    "        \n",
    "    def use_name_to_define(self):\n",
    "        no_suffix = self.event_name.split(\".\")[0]\n",
    "        field, band, chip, subfield, event_id = no_suffix.split(\"-\")\n",
    "        self.field = field\n",
    "        self.band = band\n",
    "        self.chip = chip\n",
    "        self.subfield = subfield\n",
    "        self.event_id = event_id \n",
    "        return field, band, chip, subfield, event_id\n",
    "    \n",
    "    def getting_t0_from_metadata(self, meta_dataframe):\n",
    "        lightcurve_meta_data = meta_dataframe[(meta_dataframe['ID'] == int(event_id)) &\n",
    "                                           (meta_dataframe['field'] == field) &\n",
    "                                           (meta_dataframe['chip'] == int(chip)) &\n",
    "                                           (meta_dataframe['nsub'] == int(subfield))]\n",
    "\n",
    "        t0 = lightcurve_meta_data[\"t0\"]\n",
    "        return t0    \n",
    "\n",
    "    def getting_RADec_from_metadata(self, meta_dataframe):\n",
    "        lightcurve_meta_data = meta_dataframe[(meta_dataframe['ID'] == int(event_id)) &\n",
    "                                           (meta_dataframe['field'] == field) &\n",
    "                                           (meta_dataframe['chip'] == int(chip)) &\n",
    "                                           (meta_dataframe['nsub'] == int(subfield))]\n",
    "\n",
    "        ra_coor = lightcurve_meta_data[\"RA\"]\n",
    "        dec_coor = lightcurve_meta_data[\"Dec\"]\n",
    "        return ra_coor, dec_coor   \n",
    "    \n",
    "    def getting_XY_from_metadata(self, meta_dataframe):\n",
    "        lightcurve_meta_data = meta_dataframe[(meta_dataframe['ID'] == int(event_id)) &\n",
    "                                           (meta_dataframe['field'] == field) &\n",
    "                                           (meta_dataframe['chip'] == int(chip)) &\n",
    "                                           (meta_dataframe['nsub'] == int(subfield))]\n",
    "\n",
    "        x_coor = lightcurve_meta_data[\"x\"]\n",
    "        y_coor = lightcurve_meta_data[\"y\"]\n",
    "        return x_coor, y_coor"
   ]
  },
  {
   "cell_type": "code",
   "execution_count": null,
   "metadata": {},
   "outputs": [],
   "source": []
  },
  {
   "cell_type": "code",
   "execution_count": 4,
   "metadata": {},
   "outputs": [
    {
     "name": "stdout",
     "output_type": "stream",
     "text": [
      "('17:51:03.707', '-32:14:09.90')\n"
     ]
    }
   ],
   "source": [
    "field = '3' \n",
    "chip = '2' \n",
    "x = '1963.5000'\n",
    "y = '256.5700'\n",
    "print(getting_ra_and_dec_perl(field, chip, x, y))"
   ]
  },
  {
   "cell_type": "code",
   "execution_count": null,
   "metadata": {},
   "outputs": [],
   "source": []
  },
  {
   "cell_type": "code",
   "execution_count": 5,
   "metadata": {},
   "outputs": [],
   "source": [
    "metadata_path = '/Users/sishitan/Documents/MOA/inference_packages/candlist_RADec.dat.txt'\n",
    "meta_dataframe = load_microlensing_meta_data(metadata_path)"
   ]
  },
  {
   "cell_type": "code",
   "execution_count": null,
   "metadata": {},
   "outputs": [],
   "source": []
  },
  {
   "cell_type": "code",
   "execution_count": null,
   "metadata": {},
   "outputs": [],
   "source": []
  },
  {
   "cell_type": "code",
   "execution_count": null,
   "metadata": {},
   "outputs": [],
   "source": []
  },
  {
   "cell_type": "code",
   "execution_count": 6,
   "metadata": {},
   "outputs": [],
   "source": [
    "filename = 'gb9-R-4-5-234724.phot.cor'\n",
    "event = Event(event_name = filename)\n",
    "\n",
    "field, band, chip, subfield, event_id = event.use_name_to_define()"
   ]
  },
  {
   "cell_type": "code",
   "execution_count": 7,
   "metadata": {},
   "outputs": [
    {
     "name": "stdout",
     "output_type": "stream",
     "text": [
      "t0:  3372    4650.835864\n",
      "Name: t0, dtype: float64\n",
      "ra_coor:  3372    17:58:27.368\n",
      "Name: RA, dtype: object dec_coor:  3372    -29:32:29.33\n",
      "Name: Dec, dtype: object\n",
      "x_coor:  3372    1341.19\n",
      "Name: x, dtype: float64 y_coor:  3372    2034.86\n",
      "Name: y, dtype: float64\n",
      "('17:57:07.784', '-29:26:13.19')\n"
     ]
    }
   ],
   "source": [
    "t0= event.getting_t0_from_metadata(meta_dataframe)\n",
    "print(\"t0: \", t0)\n",
    "\n",
    "ra_coor, dec_coor = event.getting_RADec_from_metadata(meta_dataframe)\n",
    "print(\"ra_coor: \",ra_coor,\"dec_coor: \", dec_coor)\n",
    "\n",
    "x_coor, y_coor = event.getting_XY_from_metadata(meta_dataframe)\n",
    "print(\"x_coor: \", x_coor, \"y_coor: \", y_coor)\n",
    "\n",
    "print(getting_ra_and_dec_perl(str(field[-1]), str(chip), str(x), str(y)))"
   ]
  },
  {
   "cell_type": "code",
   "execution_count": null,
   "metadata": {},
   "outputs": [],
   "source": []
  }
 ],
 "metadata": {
  "kernelspec": {
   "display_name": "Python 3",
   "language": "python",
   "name": "python3"
  },
  "language_info": {
   "codemirror_mode": {
    "name": "ipython",
    "version": 3
   },
   "file_extension": ".py",
   "mimetype": "text/x-python",
   "name": "python",
   "nbconvert_exporter": "python",
   "pygments_lexer": "ipython3",
   "version": "3.7.4"
  }
 },
 "nbformat": 4,
 "nbformat_minor": 2
}
